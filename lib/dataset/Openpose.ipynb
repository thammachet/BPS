{
 "cells": [
  {
   "cell_type": "code",
   "execution_count": 18,
   "id": "00ee1f39",
   "metadata": {},
   "outputs": [
    {
     "data": {
      "text/plain": [
       "32512"
      ]
     },
     "execution_count": 18,
     "metadata": {},
     "output_type": "execute_result"
    }
   ],
   "source": [
    "import os\n",
    "os.system(\"cd ~/openpose\")\n",
    "os.system(\"pwd\")\n",
    "os.system('!./build/examples/openpose/openpose.bin --video \"/home/lab/openpose/examples/media/video.avi\" --write_video \"/home/lab//openpose/output/result.avi\"')"
   ]
  },
  {
   "cell_type": "code",
   "execution_count": 15,
   "id": "c2ec9276",
   "metadata": {},
   "outputs": [
    {
     "name": "stdout",
     "output_type": "stream",
     "text": [
      "/mnt/HPE/Coding/FaceRecognition\n",
      "/bin/bash: ./build/examples/openpose/openpose.bin: No such file or directory\n"
     ]
    }
   ],
   "source": [
    "!cd ~/openpose\n",
    "!pwd\n",
    "!./build/examples/openpose/openpose.bin --video \"/home/lab/openpose/examples/media/video.avi\" --write_video \"/home/lab//openpose/output/result.avi\""
   ]
  },
  {
   "cell_type": "code",
   "execution_count": 12,
   "id": "3ddb2e38",
   "metadata": {},
   "outputs": [
    {
     "name": "stdout",
     "output_type": "stream",
     "text": [
      "COCO_val2014_000000000192.jpg  COCO_val2014_000000000459.jpg\r\n",
      "COCO_val2014_000000000241.jpg  COCO_val2014_000000000474.jpg\r\n",
      "COCO_val2014_000000000257.jpg  COCO_val2014_000000000488.jpg\r\n",
      "COCO_val2014_000000000294.jpg  COCO_val2014_000000000536.jpg\r\n",
      "COCO_val2014_000000000328.jpg  COCO_val2014_000000000544.jpg\r\n",
      "COCO_val2014_000000000338.jpg  COCO_val2014_000000000564.jpg\r\n",
      "COCO_val2014_000000000357.jpg  COCO_val2014_000000000569.jpg\r\n",
      "COCO_val2014_000000000360.jpg  COCO_val2014_000000000589.jpg\r\n",
      "COCO_val2014_000000000395.jpg  COCO_val2014_000000000623.jpg\r\n",
      "COCO_val2014_000000000415.jpg  video.avi\r\n",
      "COCO_val2014_000000000428.jpg\r\n"
     ]
    }
   ],
   "source": [
    "!ls \"/home/lab/openpose/examples/media/\""
   ]
  },
  {
   "cell_type": "code",
   "execution_count": null,
   "id": "a322a1f6",
   "metadata": {},
   "outputs": [],
   "source": []
  }
 ],
 "metadata": {
  "kernelspec": {
   "display_name": "Python 3",
   "language": "python",
   "name": "python3"
  },
  "language_info": {
   "codemirror_mode": {
    "name": "ipython",
    "version": 3
   },
   "file_extension": ".py",
   "mimetype": "text/x-python",
   "name": "python",
   "nbconvert_exporter": "python",
   "pygments_lexer": "ipython3",
   "version": "3.6.9"
  }
 },
 "nbformat": 4,
 "nbformat_minor": 5
}
